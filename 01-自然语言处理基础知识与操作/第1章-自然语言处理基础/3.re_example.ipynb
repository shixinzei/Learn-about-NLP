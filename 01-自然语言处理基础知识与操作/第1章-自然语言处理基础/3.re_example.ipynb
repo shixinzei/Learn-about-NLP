{
 "cells": [
  {
   "cell_type": "markdown",
   "metadata": {},
   "source": [
    "## 简单爬虫与正则表达式应用\n",
    "有个非常热门的自然语言处理垂直技术叫做**知识图谱**，知识图谱的构建需要依托于大量的实体和关系，很多这样的内容是可以从互联网上取到的。\n",
    "\n",
    "我们这里举一个最简单的应用，我们用正则表达式把搜狗百科的一些词条和解释抽取出来。"
   ]
  },
  {
   "cell_type": "code",
   "execution_count": 39,
   "metadata": {},
   "outputs": [],
   "source": [
    "# 引入爬虫工具库\n",
    "# encoding: UTF-8\n",
    "import requests as rq\n",
    "import re"
   ]
  },
  {
   "cell_type": "code",
   "execution_count": 67,
   "metadata": {},
   "outputs": [],
   "source": [
    "# 发送请求\n",
    "# page = rq.get(\"https://baike.sogou.com/v231013.htm\")\n",
    "\n",
    "page = rq.get(\"https://baike.baidu.com/item/nlp/25220#viewPageContent}\")"
   ]
  },
  {
   "cell_type": "code",
   "execution_count": 68,
   "metadata": {},
   "outputs": [
    {
     "data": {
      "text/plain": [
       "200"
      ]
     },
     "execution_count": 68,
     "metadata": {},
     "output_type": "execute_result"
    }
   ],
   "source": [
    "# 返回状态码正常\n",
    "page.status_code"
   ]
  },
  {
   "cell_type": "code",
   "execution_count": 69,
   "metadata": {},
   "outputs": [
    {
     "name": "stdout",
     "output_type": "stream",
     "text": [
      "ISO-8859-1\n"
     ]
    }
   ],
   "source": [
    "print(page.encoding)"
   ]
  },
  {
   "cell_type": "code",
   "execution_count": 77,
   "metadata": {},
   "outputs": [
    {
     "name": "stdout",
     "output_type": "stream",
     "text": [
      "b'<!doctype html>\\r\\n<html lang=\"en\">\\r\\n<head>\\r\\n    <meta charset=\"UTF-8\">\\r\\n    <title>\\xc3\\xa7\\xc2\\x99\\xc2\\xbe\\xc3\\xa5\\xc2\\xba\\xc2\\xa6\\xc3\\xa7\\xc2\\x99\\xc2\\xbe\\xc3\\xa7\\xc2\\xa7\\xc2\\x91\\xc3\\xa2\\xc2\\x80\\xc2\\x94\\xc3\\xa2\\xc2\\x80\\xc2\\x94\\xc3\\xa5\\xc2\\x85\\xc2\\xa8\\xc3\\xa7\\xc2\\x90\\xc2\\x83\\xc3\\xa6\\xc2\\x9c\\xc2\\x80\\xc3\\xa5\\xc2\\xa4\\xc2\\xa7\\xc3\\xa4\\xc2\\xb8\\xc2\\xad\\xc3\\xa6\\xc2\\x96\\xc2\\x87\\xc3\\xa7\\xc2\\x99\\xc2\\xbe\\xc3\\xa7\\xc2\\xa7\\xc2\\x91\\xc3\\xa5\\xc2\\x85\\xc2\\xa8\\xc3\\xa4\\xc2\\xb9\\xc2\\xa6</title>\\r\\n    <style>\\r\\n    p {\\r\\n        margin: 0;\\r\\n    }\\r\\n    .baikeLogo {\\r\\n        width: 780px;\\r\\n        height: 50px;\\r\\n        margin: 150px auto 75px;\\r\\n        text-indent: -9999em;\\r\\n        background: url(https://img.baidu.com/img/baike/logo-baike.png) 50% 50% no-repeat;\\r\\n    }\\r\\n    /* S-- errorBox */\\r\\n        .errorBox {\\r\\n            width: 780px;\\r\\n            margin: 0 auto 65px;\\r\\n            text-align: center;\\r\\n            font-family: \"Microsoft yahei\";\\r\\n        }\\r\\n        .errorBox .timeOut {\\r\\n            color: #666;\\r\\n            font-size: 16px;\\r\\n        }\\r\\n        .errorBox .timeOut a {\\r\\n            color: #136ec2;\\r\\n            text-decoration:none;\\r\\n        }\\r\\n        .errorBox .countdown {\\r\\n            font-weight: 700;\\r\\n        }\\r\\n    /* E-- errorBox */\\r\\n\\r\\n    /* S-- sorryBox */\\r\\n        .sorryBox {\\r\\n            position: relative;\\r\\n            margin-bottom: 10px;\\r\\n        }\\r\\n        .sorryBox .sorryTxt {\\r\\n            color: #559ee7;\\r\\n        }\\r\\n        .sorryBox .sorryCont {\\r\\n            color: #333;\\r\\n            font-size: 35px;\\r\\n        }\\r\\n        .sorryBox .sorryBubble {\\r\\n            position: absolute;\\r\\n            left: 98px;\\r\\n            top: -35px;\\r\\n            width: 72px;\\r\\n            height: 37px;\\r\\n            background: url(/static/common/img/error_bubble_7da2966.jpg) no-repeat 50% 50%;\\r\\n        }\\r\\n    /* E-- sorryBox */\\r\\n\\r\\n    /* S-- footer */\\r\\n        .ft {\\r\\n            width: 780px;\\r\\n            margin: 0 auto 65px;\\r\\n            padding-top: 20px;\\r\\n            padding-bottom: 20px;\\r\\n            line-height: 20px;\\r\\n            color: #666;\\r\\n            font-size: 12px;\\r\\n            text-align: center;\\r\\n            background-color: #f8f8f8;\\r\\n        }\\r\\n        .ft a{\\r\\n            color: #2d64b3;\\r\\n            text-decoration: none;\\r\\n        }\\r\\n        .ft a:hover {\\r\\n            text-decoration: underline;\\r\\n        }\\r\\n        .feedBackWays .ul {\\r\\n            margin: 0;\\r\\n            padding: 0;\\r\\n        }\\r\\n        .feedBackWays .li {\\r\\n            list-style: none;\\r\\n        }\\r\\n        .ftCont {\\r\\n            margin-top: 20px;\\r\\n            color: #2d64b3;\\r\\n        }\\r\\n    /* E-- footer */\\r\\n    </style>\\r\\n</head>\\r\\n<body>\\r\\n    <div id=\"bd\">\\r\\n        <h1 class=\"baikeLogo\">\\r\\n            \\xc3\\xa7\\xc2\\x99\\xc2\\xbe\\xc3\\xa5\\xc2\\xba\\xc2\\xa6\\xc3\\xa7\\xc2\\x99\\xc2\\xbe\\xc3\\xa7\\xc2\\xa7\\xc2\\x91\\xc3\\xa9\\xc2\\x94\\xc2\\x99\\xc3\\xa8\\xc2\\xaf\\xc2\\xaf\\xc3\\xa9\\xc2\\xa1\\xc2\\xb5\\r\\n        </h1>\\r\\n        <div class=\"errorBox\">\\r\\n            <!-- \\xc3\\xa4\\xc2\\xb8\\xc2\\xbb\\xc3\\xa4\\xc2\\xbd\\xc2\\x93 -->\\r\\n            <div class=\"sorryBox\">\\r\\n                <div class=\"sorryBubble\"></div>\\r\\n                <p class=\"sorryCont\"><span class=\"sorryTxt\">\\xc3\\xa6\\xc2\\x8a\\xc2\\xb1\\xc3\\xa6\\xc2\\xad\\xc2\\x89</span>\\xc3\\xaf\\xc2\\xbc\\xc2\\x8c\\xc3\\xa6\\xc2\\x82\\xc2\\xa8\\xc3\\xa6\\xc2\\x89\\xc2\\x80\\xc3\\xa8\\xc2\\xae\\xc2\\xbf\\xc3\\xa9\\xc2\\x97\\xc2\\xae\\xc3\\xa7\\xc2\\x9a\\xc2\\x84\\xc3\\xa9\\xc2\\xa1\\xc2\\xb5\\xc3\\xa9\\xc2\\x9d\\xc2\\xa2\\xc3\\xa4\\xc2\\xb8\\xc2\\x8d\\xc3\\xa5\\xc2\\xad\\xc2\\x98\\xc3\\xa5\\xc2\\x9c\\xc2\\xa8...</p>\\r\\n            </div>\\r\\n            <div class=\"timeOut\">\\r\\n                <p><span class=\"countdown\" id=\"countdown\">3</span>\\xc3\\xa7\\xc2\\xa7\\xc2\\x92\\xc3\\xa5\\xc2\\x90\\xc2\\x8e\\xc3\\xa8\\xc2\\x87\\xc2\\xaa\\xc3\\xa5\\xc2\\x8a\\xc2\\xa8\\xc3\\xa8\\xc2\\xb7\\xc2\\xb3\\xc3\\xa8\\xc2\\xbd\\xc2\\xac\\xc3\\xa5\\xc2\\x88\\xc2\\xb0<a href=\"http://baike.baidu.com/\">\\xc3\\xa7\\xc2\\x99\\xc2\\xbe\\xc3\\xa7\\xc2\\xa7\\xc2\\x91\\xc3\\xa9\\xc2\\xa6\\xc2\\x96\\xc3\\xa9\\xc2\\xa1\\xc2\\xb5</a></p>\\r\\n            </div>\\r\\n            <!-- /\\xc3\\xa4\\xc2\\xb8\\xc2\\xbb\\xc3\\xa4\\xc2\\xbd\\xc2\\x93 -->\\r\\n        </div>\\r\\n    </div>\\r\\n    <div id=\"ft\">\\r\\n        <div class=\"ft\">\\r\\n            <div class=\"feedBackWays\">\\r\\n                <ul class=\"ul\">\\r\\n                    <li class=\"li\">\\xc3\\xa5\\xc2\\xa6\\xc2\\x82\\xc3\\xa6\\xc2\\x9e\\xc2\\x9c\\xc3\\xa6\\xc2\\x83\\xc2\\xb3\\xc3\\xa6\\xc2\\x8f\\xc2\\x90\\xc3\\xa5\\xc2\\x87\\xc2\\xba\\xc3\\xa5\\xc2\\x8a\\xc2\\x9f\\xc3\\xa8\\xc2\\x83\\xc2\\xbd\\xc3\\xa9\\xc2\\x97\\xc2\\xae\\xc3\\xa9\\xc2\\xa2\\xc2\\x98\\xc3\\xa6\\xc2\\x88\\xc2\\x96\\xc3\\xa6\\xc2\\x84\\xc2\\x8f\\xc3\\xa8\\xc2\\xa7\\xc2\\x81\\xc3\\xa5\\xc2\\xbb\\xc2\\xba\\xc3\\xa8\\xc2\\xae\\xc2\\xae,\\xc3\\xa8\\xc2\\xaf\\xc2\\xb7\\xc3\\xa5\\xc2\\x88\\xc2\\xb0<a href=\"http://baike.baidu.com/feedback\" target=\"_blank\">\\xc3\\xa6\\xc2\\x84\\xc2\\x8f\\xc3\\xa8\\xc2\\xa7\\xc2\\x81\\xc3\\xa5\\xc2\\x8f\\xc2\\x8d\\xc3\\xa9\\xc2\\xa6\\xc2\\x88</a>;</li>\\r\\n                    <li class=\"li\">\\xc3\\xa5\\xc2\\xa6\\xc2\\x82\\xc3\\xa6\\xc2\\x9e\\xc2\\x9c\\xc3\\xa6\\xc2\\x82\\xc2\\xa8\\xc3\\xa8\\xc2\\xa6\\xc2\\x81\\xc3\\xa4\\xc2\\xb8\\xc2\\xbe\\xc3\\xa6\\xc2\\x8a\\xc2\\xa5\\xc3\\xa4\\xc2\\xbe\\xc2\\xb5\\xc3\\xa6\\xc2\\x9d\\xc2\\x83\\xc3\\xa6\\xc2\\x88\\xc2\\x96\\xc3\\xa8\\xc2\\xbf\\xc2\\x9d\\xc3\\xa6\\xc2\\xb3\\xc2\\x95\\xc3\\xa4\\xc2\\xbf\\xc2\\xa1\\xc3\\xa6\\xc2\\x81\\xc2\\xaf,\\xc3\\xa8\\xc2\\xaf\\xc2\\xb7\\xc3\\xa5\\xc2\\x88\\xc2\\xb0<a href=\"http://help.baidu.com/newadd?prod_id=10&category=1\" target=\"_blank\">\\xc3\\xa6\\xc2\\x8a\\xc2\\x95\\xc3\\xa8\\xc2\\xaf\\xc2\\x89\\xc3\\xa4\\xc2\\xb8\\xc2\\xad\\xc3\\xa5\\xc2\\xbf\\xc2\\x83</a>;</li>\\r\\n                    <li class=\"li\">\\xc3\\xa5\\xc2\\x85\\xc2\\xb6\\xc3\\xa4\\xc2\\xbb\\xc2\\x96\\xc3\\xa9\\xc2\\x97\\xc2\\xae\\xc3\\xa9\\xc2\\xa2\\xc2\\x98\\xc3\\xa8\\xc2\\xaf\\xc2\\xb7\\xc3\\xa8\\xc2\\xae\\xc2\\xbf\\xc3\\xa9\\xc2\\x97\\xc2\\xae<a href=\"http://tieba.baidu.com/f?kw=%B0%D9%B6%C8%B0%D9%BF%C6\" target=\"_blank\">\\xc3\\xa7\\xc2\\x99\\xc2\\xbe\\xc3\\xa5\\xc2\\xba\\xc2\\xa6\\xc3\\xa7\\xc2\\x99\\xc2\\xbe\\xc3\\xa7\\xc2\\xa7\\xc2\\x91\\xc3\\xa5\\xc2\\x90\\xc2\\xa7</a>\\xc3\\xa3\\xc2\\x80\\xc2\\x82</li>\\r\\n                </ul>\\r\\n            </div>\\r\\n            <div class=\"ftCont\">\\r\\n                &copy;<span id=\"copyYear\"></span>Baidu <a href=\"http://www.baidu.com/duty/\" target=\"_blank\">\\xc3\\xa4\\xc2\\xbd\\xc2\\xbf\\xc3\\xa7\\xc2\\x94\\xc2\\xa8\\xc3\\xa7\\xc2\\x99\\xc2\\xbe\\xc3\\xa5\\xc2\\xba\\xc2\\xa6\\xc3\\xa5\\xc2\\x89\\xc2\\x8d\\xc3\\xa5\\xc2\\xbf\\xc2\\x85\\xc3\\xa8\\xc2\\xaf\\xc2\\xbb</a> | <a href=\"http://help.baidu.com/question?prod_en=baike&class=89&id=1637\" target=\"_blank\">\\xc3\\xa7\\xc2\\x99\\xc2\\xbe\\xc3\\xa7\\xc2\\xa7\\xc2\\x91\\xc3\\xa5\\xc2\\x8d\\xc2\\x8f\\xc3\\xa8\\xc2\\xae\\xc2\\xae</a> | <a href=\"http://baike.baidu.com/hezuo/\" target=\"_blank\">\\xc3\\xa7\\xc2\\x99\\xc2\\xbe\\xc3\\xa5\\xc2\\xba\\xc2\\xa6\\xc3\\xa7\\xc2\\x99\\xc2\\xbe\\xc3\\xa7\\xc2\\xa7\\xc2\\x91\\xc3\\xa5\\xc2\\x90\\xc2\\x88\\xc3\\xa4\\xc2\\xbd\\xc2\\x9c\\xc3\\xa5\\xc2\\xb9\\xc2\\xb3\\xc3\\xa5\\xc2\\x8f\\xc2\\xb0</a>\\r\\n            </div>\\r\\n        </div>\\r\\n    </div>\\r\\n    <script type=\"text/javascript\">\\r\\n    window.onload = function(){\\r\\n        var time = 3,\\r\\n            year = new Date().getFullYear();\\r\\n\\r\\n        document.getElementById(\"copyYear\").innerHTML = year;\\r\\n        setInterval(function(){\\r\\n            if (time == 0){\\r\\n                window.location = \"http://baike.baidu.com/\";\\r\\n                return;\\r\\n            }\\r\\n            document.getElementById(\"countdown\").innerHTML = time;\\r\\n            time--;\\r\\n        }, 1000);\\r\\n    }\\r\\n    </script>\\r\\n</body>\\r\\n</html>'\n"
     ]
    }
   ],
   "source": [
    "print(page.text.encode('utf-8'))"
   ]
  },
  {
   "cell_type": "code",
   "execution_count": 78,
   "metadata": {},
   "outputs": [
    {
     "name": "stdout",
     "output_type": "stream",
     "text": [
      "re.compile('<title>(.*?)</title>')\n"
     ]
    }
   ],
   "source": [
    "# 词条正则表达式抽取\n",
    "title_pattern = re.compile(r'<title>(.*?)</title>')\n",
    "print(title_pattern)"
   ]
  },
  {
   "cell_type": "code",
   "execution_count": 79,
   "metadata": {},
   "outputs": [
    {
     "name": "stdout",
     "output_type": "stream",
     "text": [
      "ç¾åº¦ç¾ç§ââå",
      "¨çæå¤§ä¸­æç¾ç§å",
      "¨ä¹¦\n"
     ]
    }
   ],
   "source": [
    "title = title_pattern.search(page.text) \n",
    "print(title.group(1))"
   ]
  },
  {
   "cell_type": "code",
   "execution_count": 81,
   "metadata": {
    "scrolled": true
   },
   "outputs": [
    {
     "name": "stdout",
     "output_type": "stream",
     "text": [
      "['<span class=\"countdown\" id=\"countdown\">3</span>ç§\\x92å\\x90\\x8eè\\x87ªå\\x8a¨è·³è½¬å\\x88°<a href=\"http://baike.baidu.com/\">ç\\x99¾ç§\\x91é¦\\x96é¡µ</a>']\n"
     ]
    }
   ],
   "source": [
    "# 词条正则表达式抽取\n",
    "content_pattern = re.compile(r'<p>(.*?)</p>') \n",
    "contents = content_pattern.findall(page.text) \n",
    "print(contents)"
   ]
  },
  {
   "cell_type": "code",
   "execution_count": 82,
   "metadata": {},
   "outputs": [
    {
     "data": {
      "text/plain": [
       "['<span class=\"countdown\" id=\"countdown\">3</span>ç§\\x92å\\x90\\x8eè\\x87ªå\\x8a¨è·³è½¬å\\x88°ç\\x99¾ç§\\x91é¦\\x96é¡µ</a>']"
      ]
     },
     "execution_count": 82,
     "metadata": {},
     "output_type": "execute_result"
    }
   ],
   "source": [
    "list(map(lambda x:re.sub(\"<a .*?>|<\\\\\\/[ab]>\", \"\",x), contents))"
   ]
  }
 ],
 "metadata": {
  "kernelspec": {
   "display_name": "Python 3",
   "language": "python",
   "name": "python3"
  },
  "language_info": {
   "codemirror_mode": {
    "name": "ipython",
    "version": 3
   },
   "file_extension": ".py",
   "mimetype": "text/x-python",
   "name": "python",
   "nbconvert_exporter": "python",
   "pygments_lexer": "ipython3",
   "version": "3.6.2"
  }
 },
 "nbformat": 4,
 "nbformat_minor": 2
}
